{
 "cells": [
  {
   "cell_type": "markdown",
   "id": "72721836",
   "metadata": {},
   "source": [
    "![alt text](image.png)\n",
    "\n",
    "\n",
    "## Customer Segmentation Using RFM Analysis\n",
    "\n",
    "\n",
    "This code is my take on the Task 3 of the Elevvo Pathways Data Analyst Internship program. \n",
    "In this notebook, I shall process data from the dataset Online Retail dataset.xlsx from the UCI ML Repository for online sales. \n",
    "\n"
   ]
  },
  {
   "cell_type": "code",
   "execution_count": 1,
   "id": "10fd7a7c",
   "metadata": {},
   "outputs": [],
   "source": [
    "import pandas as pd\n",
    "import numpy as np\n",
    "from datetime import datetime, timedelta\n",
    "import matplotlib.pyplot as plt\n",
    "import seaborn as sns\n",
    "import os\n",
    "import warnings\n",
    "from pathlib import Path"
   ]
  },
  {
   "cell_type": "markdown",
   "id": "bb985be3",
   "metadata": {},
   "source": [
    "Here, we do an initial check of the dataset."
   ]
  },
  {
   "cell_type": "code",
   "execution_count": 2,
   "id": "126f0cb3",
   "metadata": {},
   "outputs": [
    {
     "name": "stdout",
     "output_type": "stream",
     "text": [
      "Shape: (541909, 8)\n",
      "Columns: ['InvoiceNo', 'StockCode', 'Description', 'Quantity', 'InvoiceDate', 'UnitPrice', 'CustomerID', 'Country']\n"
     ]
    },
    {
     "data": {
      "text/html": [
       "<div>\n",
       "<style scoped>\n",
       "    .dataframe tbody tr th:only-of-type {\n",
       "        vertical-align: middle;\n",
       "    }\n",
       "\n",
       "    .dataframe tbody tr th {\n",
       "        vertical-align: top;\n",
       "    }\n",
       "\n",
       "    .dataframe thead th {\n",
       "        text-align: right;\n",
       "    }\n",
       "</style>\n",
       "<table border=\"1\" class=\"dataframe\">\n",
       "  <thead>\n",
       "    <tr style=\"text-align: right;\">\n",
       "      <th></th>\n",
       "      <th>InvoiceNo</th>\n",
       "      <th>StockCode</th>\n",
       "      <th>Description</th>\n",
       "      <th>Quantity</th>\n",
       "      <th>InvoiceDate</th>\n",
       "      <th>UnitPrice</th>\n",
       "      <th>CustomerID</th>\n",
       "      <th>Country</th>\n",
       "    </tr>\n",
       "  </thead>\n",
       "  <tbody>\n",
       "    <tr>\n",
       "      <th>0</th>\n",
       "      <td>536365</td>\n",
       "      <td>85123A</td>\n",
       "      <td>WHITE HANGING HEART T-LIGHT HOLDER</td>\n",
       "      <td>6</td>\n",
       "      <td>2010-12-01 08:26:00</td>\n",
       "      <td>2.55</td>\n",
       "      <td>17850.0</td>\n",
       "      <td>United Kingdom</td>\n",
       "    </tr>\n",
       "    <tr>\n",
       "      <th>1</th>\n",
       "      <td>536365</td>\n",
       "      <td>71053</td>\n",
       "      <td>WHITE METAL LANTERN</td>\n",
       "      <td>6</td>\n",
       "      <td>2010-12-01 08:26:00</td>\n",
       "      <td>3.39</td>\n",
       "      <td>17850.0</td>\n",
       "      <td>United Kingdom</td>\n",
       "    </tr>\n",
       "    <tr>\n",
       "      <th>2</th>\n",
       "      <td>536365</td>\n",
       "      <td>84406B</td>\n",
       "      <td>CREAM CUPID HEARTS COAT HANGER</td>\n",
       "      <td>8</td>\n",
       "      <td>2010-12-01 08:26:00</td>\n",
       "      <td>2.75</td>\n",
       "      <td>17850.0</td>\n",
       "      <td>United Kingdom</td>\n",
       "    </tr>\n",
       "    <tr>\n",
       "      <th>3</th>\n",
       "      <td>536365</td>\n",
       "      <td>84029G</td>\n",
       "      <td>KNITTED UNION FLAG HOT WATER BOTTLE</td>\n",
       "      <td>6</td>\n",
       "      <td>2010-12-01 08:26:00</td>\n",
       "      <td>3.39</td>\n",
       "      <td>17850.0</td>\n",
       "      <td>United Kingdom</td>\n",
       "    </tr>\n",
       "    <tr>\n",
       "      <th>4</th>\n",
       "      <td>536365</td>\n",
       "      <td>84029E</td>\n",
       "      <td>RED WOOLLY HOTTIE WHITE HEART.</td>\n",
       "      <td>6</td>\n",
       "      <td>2010-12-01 08:26:00</td>\n",
       "      <td>3.39</td>\n",
       "      <td>17850.0</td>\n",
       "      <td>United Kingdom</td>\n",
       "    </tr>\n",
       "  </tbody>\n",
       "</table>\n",
       "</div>"
      ],
      "text/plain": [
       "  InvoiceNo StockCode                          Description  Quantity  \\\n",
       "0    536365    85123A   WHITE HANGING HEART T-LIGHT HOLDER         6   \n",
       "1    536365     71053                  WHITE METAL LANTERN         6   \n",
       "2    536365    84406B       CREAM CUPID HEARTS COAT HANGER         8   \n",
       "3    536365    84029G  KNITTED UNION FLAG HOT WATER BOTTLE         6   \n",
       "4    536365    84029E       RED WOOLLY HOTTIE WHITE HEART.         6   \n",
       "\n",
       "          InvoiceDate  UnitPrice  CustomerID         Country  \n",
       "0 2010-12-01 08:26:00       2.55     17850.0  United Kingdom  \n",
       "1 2010-12-01 08:26:00       3.39     17850.0  United Kingdom  \n",
       "2 2010-12-01 08:26:00       2.75     17850.0  United Kingdom  \n",
       "3 2010-12-01 08:26:00       3.39     17850.0  United Kingdom  \n",
       "4 2010-12-01 08:26:00       3.39     17850.0  United Kingdom  "
      ]
     },
     "execution_count": 2,
     "metadata": {},
     "output_type": "execute_result"
    }
   ],
   "source": [
    "file_path = \"Online Retail dataset.xlsx\"  # or the correct path if different\n",
    "df = pd.read_excel(file_path, sheet_name=\"Online Retail\")\n",
    "\n",
    "print(\"Shape:\", df.shape)\n",
    "print(\"Columns:\", df.columns.tolist())\n",
    "df.head()"
   ]
  },
  {
   "cell_type": "markdown",
   "id": "a500dc7e",
   "metadata": {},
   "source": [
    "Now, we move onto the next step of cleaning out our dataset to make it more relevant to our RFM Analysis. We will now apply the following steps: \n",
    " - Removing rows with missing CustomerID - having rows without any CustomerID will not be useful to us\n",
    " - Removing negative or zero Quantity and UnitPrice - negative values can indicate returns or errors in the dataset, which can negatively impact our analysis\n",
    " - Ensuring that InvoiceDate is in the Datetime format for accuracy\n",
    " - Removing duplicate rows\n",
    "\n",
    "\n",
    "Removing rows with missing CustomerID"
   ]
  },
  {
   "cell_type": "code",
   "execution_count": null,
   "id": "b00e95c9",
   "metadata": {},
   "outputs": [
    {
     "name": "stdout",
     "output_type": "stream",
     "text": [
      "Removed 135080 rows without CustomerID | Remaining rows: 406829\n"
     ]
    }
   ],
   "source": [
    "before = len(df) \n",
    "df = df.dropna(subset=['CustomerID']).copy()\n",
    "after = len(df)\n",
    "\n",
    "print(f\"Removed {before - after} rows without CustomerID | Remaining rows: {after}\")"
   ]
  },
  {
   "cell_type": "markdown",
   "id": "ddfe60b3",
   "metadata": {},
   "source": [
    "Removing negative or zero Quantity and UnitPrice"
   ]
  },
  {
   "cell_type": "code",
   "execution_count": null,
   "id": "07786017",
   "metadata": {},
   "outputs": [
    {
     "name": "stdout",
     "output_type": "stream",
     "text": [
      "Removed 8945 rows with negative or zero Quantity/UnitPrice | Remaining rows: 397884\n"
     ]
    }
   ],
   "source": [
    "before = len(df)\n",
    "df = df[(df['Quantity'] > 0) & (df['UnitPrice'] > 0)].copy()\n",
    "after = len(df)\n",
    "\n",
    "print(f\"Removed {before - after} rows with negative or zero Quantity/UnitPrice | Remaining rows: {after}\")\n"
   ]
  },
  {
   "cell_type": "markdown",
   "id": "380a4673",
   "metadata": {},
   "source": [
    "Ensuring that InvoiceDate is in the Datetime format for accuracy"
   ]
  },
  {
   "cell_type": "code",
   "execution_count": 10,
   "id": "0ead1ca1",
   "metadata": {},
   "outputs": [],
   "source": [
    "df['InvoiceDate'] = pd.to_datetime(df['InvoiceDate'], errors='coerce')\n",
    "\n",
    "# Removing any rows where conversion failed\n",
    "df = df.dropna(subset=['InvoiceDate']).copy()\n"
   ]
  },
  {
   "cell_type": "markdown",
   "id": "a6296c10",
   "metadata": {},
   "source": [
    "Removing duplicate rows"
   ]
  },
  {
   "cell_type": "code",
   "execution_count": 11,
   "id": "cec46de4",
   "metadata": {},
   "outputs": [
    {
     "name": "stdout",
     "output_type": "stream",
     "text": [
      "Removed 5192 duplicate rows | Remaining rows: 392692\n"
     ]
    }
   ],
   "source": [
    "before = len(df)\n",
    "df = df.drop_duplicates().copy()\n",
    "after = len(df)\n",
    "print(f\"Removed {before - after} duplicate rows | Remaining rows: {after}\")"
   ]
  },
  {
   "cell_type": "markdown",
   "id": "dbb7f466",
   "metadata": {},
   "source": [
    "# Analysing Customer Behavior\n",
    "\n",
    "In this section, we shall analyze how customers' behavior varies. Calculating this will be done on the basis of the following metrics:  \n",
    "\n",
    "- Recency: How recently a customer made a purchase  \n",
    "- Frequency: How often they made a purchase  \n",
    "- Monetary: How much money they spent  \n",
    "\n",
    "Scores will be assigned to each metric based on the following rubric:  \n",
    "\n",
    "- Recency Score: 5 = most recent, 1 = least recent  \n",
    "- Frequency Score: 5 = most frequent, 1 = least frequent  \n",
    "- Monetary Score: 5 = highest spender, 1 = lowest spender  \n"
   ]
  },
  {
   "cell_type": "code",
   "execution_count": 4,
   "id": "3301806d",
   "metadata": {},
   "outputs": [],
   "source": [
    "import datetime as dt\n",
    "\n",
    "# Create TotalPrice column if not already created\n",
    "df['TotalPrice'] = df['Quantity'] * df['UnitPrice']\n",
    "\n",
    "reference_date = df['InvoiceDate'].max() + dt.timedelta(days=1)\n",
    "\n",
    "rfm = df.groupby('CustomerID').agg({\n",
    "    'InvoiceDate': lambda x: (reference_date - x.max()).days,  # Recency\n",
    "    'InvoiceNo': 'nunique',                                    # Frequency\n",
    "    'TotalPrice': 'sum'                                        # Monetary\n",
    "}).reset_index()  \n",
    "\n",
    "rfm.columns = ['CustomerID', 'Recency', 'Frequency', 'Monetary']\n",
    "\n",
    "rfm['R_Score'] = pd.qcut(rfm['Recency'], 5, labels=[5, 4, 3, 2, 1]).astype(int)\n"
   ]
  },
  {
   "cell_type": "markdown",
   "id": "8e10045d",
   "metadata": {},
   "source": [
    "Recency"
   ]
  },
  {
   "cell_type": "code",
   "execution_count": 5,
   "id": "124d0279",
   "metadata": {},
   "outputs": [
    {
     "name": "stdout",
     "output_type": "stream",
     "text": [
      "   CustomerID  Recency  R_Score\n",
      "0     12346.0      326        1\n",
      "1     12347.0        2        5\n",
      "2     12348.0       75        2\n",
      "3     12349.0       19        4\n",
      "4     12350.0      310        1\n"
     ]
    }
   ],
   "source": [
    "rfm['R_Score'] = pd.qcut(rfm['Recency'], 5, labels=[5, 4, 3, 2, 1]).astype(int)\n",
    "\n",
    "print(rfm[['CustomerID', 'Recency', 'R_Score']].head())"
   ]
  },
  {
   "cell_type": "markdown",
   "id": "309089d9",
   "metadata": {},
   "source": [
    "Frequency"
   ]
  },
  {
   "cell_type": "code",
   "execution_count": 6,
   "id": "5521c7f2",
   "metadata": {},
   "outputs": [
    {
     "name": "stdout",
     "output_type": "stream",
     "text": [
      "   CustomerID  Frequency  F_Score\n",
      "0     12346.0          2        1\n",
      "1     12347.0          7        3\n",
      "2     12348.0          4        2\n",
      "3     12349.0          1        1\n",
      "4     12350.0          1        1\n"
     ]
    }
   ],
   "source": [
    "# Step 1: Compute F_Score dynamically\n",
    "f_bins = 5  # desired number of quantiles\n",
    "frequency_qcut = pd.qcut(\n",
    "    rfm['Frequency'],\n",
    "    q=f_bins,\n",
    "    duplicates='drop'   # Handling duplicate bin edges\n",
    ")\n",
    "\n",
    "# Create labels dynamically\n",
    "unique_bins = frequency_qcut.cat.categories.size\n",
    "labels = range(1, unique_bins + 1)\n",
    "\n",
    "# Apply qcut with labels\n",
    "rfm['F_Score'] = pd.qcut(\n",
    "    rfm['Frequency'],\n",
    "    q=f_bins,\n",
    "    labels=labels,\n",
    "    duplicates='drop'\n",
    ").astype(int)\n",
    "\n",
    "# Step 2: Preview\n",
    "print(rfm[['CustomerID', 'Frequency', 'F_Score']].head())\n"
   ]
  },
  {
   "cell_type": "markdown",
   "id": "effb97e6",
   "metadata": {},
   "source": [
    "Monetary"
   ]
  },
  {
   "cell_type": "code",
   "execution_count": 7,
   "id": "3678c1f0",
   "metadata": {},
   "outputs": [
    {
     "name": "stdout",
     "output_type": "stream",
     "text": [
      "   CustomerID  Monetary  M_Score\n",
      "0     12346.0      0.00        1\n",
      "1     12347.0   4310.00        5\n",
      "2     12348.0   1797.24        4\n",
      "3     12349.0   1757.55        4\n",
      "4     12350.0    334.40        2\n"
     ]
    }
   ],
   "source": [
    "rfm['M_Score'] = pd.qcut(\n",
    "    rfm['Monetary'], \n",
    "    q=5,                          \n",
    "    labels=[1, 2, 3, 4, 5],         \n",
    "    duplicates='drop'                 \n",
    ").astype(int)\n",
    "\n",
    "print(rfm[['CustomerID', 'Monetary', 'M_Score']].head())\n"
   ]
  },
  {
   "cell_type": "markdown",
   "id": "e1ec787a",
   "metadata": {},
   "source": [
    "We have now calculated the individual scores for each of the categories. Next, we will now combine the three scores into a single RFM score as follows: "
   ]
  },
  {
   "cell_type": "code",
   "execution_count": 8,
   "id": "155e26d3",
   "metadata": {},
   "outputs": [
    {
     "name": "stdout",
     "output_type": "stream",
     "text": [
      "   CustomerID  R_Score  F_Score  M_Score  RFM_Total\n",
      "0     12346.0        1        1        1          3\n",
      "1     12347.0        5        3        5         13\n",
      "2     12348.0        2        2        4          8\n",
      "3     12349.0        4        1        4          9\n",
      "4     12350.0        1        1        2          4\n"
     ]
    }
   ],
   "source": [
    "rfm['RFM_Total'] = rfm['R_Score'] + rfm['F_Score'] + rfm['M_Score']\n",
    "\n",
    "print(rfm[['CustomerID', 'R_Score', 'F_Score', 'M_Score', 'RFM_Total']].head())"
   ]
  },
  {
   "cell_type": "markdown",
   "id": "377c914f",
   "metadata": {},
   "source": [
    "From the above lines of code, we have a table which contains the following columns: \n",
    "- CustomerID\n",
    "- Recency\n",
    "- Frequency\n",
    "- Monetary \n",
    "- R_score, F_score, M_score\n",
    "- Total\n",
    "\n",
    "After assiging scores to customer, we can make better use of this information by segmenting customers on the basis of their scores. The segmentation shall be done as follows: \n",
    "- Loyal High-Value: R ≥ 4, F ≥ 4, M ≥ 4 → reward these customers\n",
    "- New Customer: R = 5 → welcome campaigns\n",
    "- At Risk / Inactive: R ≤ 2 → re-engagement campaigns\n",
    "- Low Value / Occasional: Low F or M → minimal effort, monitor"
   ]
  },
  {
   "cell_type": "code",
   "execution_count": 9,
   "id": "7fa782f3",
   "metadata": {},
   "outputs": [
    {
     "name": "stdout",
     "output_type": "stream",
     "text": [
      "   CustomerID RFM_Score  RFM_Total       Segment\n",
      "0     12346.0       111          3       At Risk\n",
      "1     12347.0       535         13  New Customer\n",
      "2     12348.0       224          8       At Risk\n",
      "3     12349.0       414          9     Low Value\n",
      "4     12350.0       112          4       At Risk\n"
     ]
    }
   ],
   "source": [
    "rfm['RFM_Score'] = rfm['R_Score'].astype(str) + rfm['F_Score'].astype(str) + rfm['M_Score'].astype(str)\n",
    "\n",
    "# Segmentation\n",
    "def segment_customer(row):\n",
    "    if row['R_Score'] >= 4 and row['F_Score'] >= 4 and row['M_Score'] >= 4:\n",
    "        return 'Loyal High-Value'\n",
    "    elif row['R_Score'] == 5:\n",
    "        return 'New Customer'\n",
    "    elif row['R_Score'] <= 2:\n",
    "        return 'At Risk'\n",
    "    else:\n",
    "        return 'Low Value'\n",
    "\n",
    "rfm['Segment'] = rfm.apply(segment_customer, axis=1)\n",
    "\n",
    "print(rfm[['CustomerID', 'RFM_Score', 'RFM_Total', 'Segment']].head())\n"
   ]
  },
  {
   "cell_type": "markdown",
   "id": "a84e5aa4",
   "metadata": {},
   "source": [
    "Looking at the table above, we've calculated RFM scores for each customer, and then have combined them into a total score, and categorized them into segments: category based on behavior: \"Loyal High-Value\", \"New Customer\", \"At Risk\", \"Low Value\". This can help target market strategies based on how valuable the customer is. \n",
    "\n",
    "A few simple marketing ideas for each group could be thought of as follows: \n",
    "\n",
    "- **Loyal High-Value**\n",
    "  - Offer loyalty rewards\n",
    "  - Provide exclusive discounts\n",
    "  - Give early access to new products\n",
    "\n",
    "- **New Customer**\n",
    "  - Send welcome emails\n",
    "  - Provide onboarding offers\n",
    "  - Give first-purchase discounts\n",
    "\n",
    "- **At Risk**\n",
    "  - Run re-engagement campaigns\n",
    "  - Send reminder emails\n",
    "  - Offer special promotions to bring them back\n",
    "\n",
    "- **Low Value**\n",
    "  - Send occasional promotions\n",
    "  - Try upselling or cross-selling\n",
    "  - Monitor engagement\n",
    "\n",
    "\n",
    "### Conclusion\n",
    "\n",
    "By performing RFM analysis, we cleaned and analyzed customer purchase data to calculate Recency, Frequency, and Monetary scores. Each customer was scored and segmented into groups such as **Loyal High-Value**, **New Customer**, **At Risk**, and **Low Value**. These segments provide actionable insights, allowing targeted marketing strategies like loyalty rewards, re-engagement campaigns, and promotions to improve customer retention and maximize value.\n",
    "\n"
   ]
  },
  {
   "cell_type": "markdown",
   "id": "4c061b11",
   "metadata": {},
   "source": []
  },
  {
   "cell_type": "markdown",
   "id": "943556a4",
   "metadata": {},
   "source": [
    "Bonus Task: Creating a summary dashboard or chart showing top 5 insights"
   ]
  },
  {
   "cell_type": "code",
   "execution_count": 10,
   "id": "ce787d81",
   "metadata": {},
   "outputs": [
    {
     "data": {
      "image/png": "[encoded data removed]",
      "text/plain": [
       "<Figure size 800x600 with 2 Axes>"
      ]
     },
     "metadata": {},
     "output_type": "display_data"
    }
   ],
   "source": [
    "heatmap_data = rfm.pivot_table(\n",
    "    index='F_Score',      # Frequency on y-axis\n",
    "    columns='R_Score',    # Recency on x-axis\n",
    "    values='M_Score',     # Monetary as the value\n",
    "    aggfunc='mean'        # Average monetary value\n",
    ")\n",
    "\n",
    "# Plot the heatmap\n",
    "plt.figure(figsize=(8, 6))\n",
    "sns.heatmap(\n",
    "    heatmap_data,\n",
    "    annot=True,           # Show the numbers\n",
    "    fmt=\".1f\",            # One decimal place\n",
    "    cmap=\"YlGnBu\",        # Color map\n",
    "    cbar_kws={\"label\": \"Average Monetary Value\"}  # Colorbar label\n",
    ")\n",
    "plt.title(\"Average Monetary Value by Recency and Frequency Scores\")\n",
    "plt.xlabel(\"Recency Score\")\n",
    "plt.ylabel(\"Frequency Score\")\n",
    "\n",
    "# Show the plot\n",
    "plt.show()"
   ]
  },
  {
   "cell_type": "code",
   "execution_count": null,
   "id": "529d6c7a",
   "metadata": {},
   "outputs": [],
   "source": []
  }
 ],
 "metadata": {
  "kernelspec": {
   "display_name": "Python 3",
   "language": "python",
   "name": "python3"
  },
  "language_info": {
   "codemirror_mode": {
    "name": "ipython",
    "version": 3
   },
   "file_extension": ".py",
   "mimetype": "text/x-python",
   "name": "python",
   "nbconvert_exporter": "python",
   "pygments_lexer": "ipython3",
   "version": "3.13.3"
  }
 },
 "nbformat": 4,
 "nbformat_minor": 5
}
